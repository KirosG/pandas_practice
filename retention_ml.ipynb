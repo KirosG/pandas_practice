{
 "cells": [
  {
   "cell_type": "code",
   "execution_count": null,
   "metadata": {},
   "outputs": [],
   "source": [
    "%matplotlib inline"
   ]
  },
  {
   "cell_type": "code",
   "execution_count": 1,
   "metadata": {},
   "outputs": [],
   "source": [
    "from IPython.core.interactiveshell import InteractiveShell\n",
    "InteractiveShell.ast_node_interactivity = \"all\"\n",
    "\n",
    "import pandas as pd\n",
    "import numpy as np\n",
    "from pathlib import Path\n",
    "import matplotlib.pyplot as plt\n",
    "\n",
    "import seaborn as sns\n",
    "sns.set_style(\"whitegrid\")\n",
    "PATH = Path('data')\n",
    "\n",
    "from itertools import product\n",
    "\n",
    "def date_breakdown(df,col):\n",
    "    df[f'{col}_year']=df[col].dt.year\n",
    "    df[f'{col}_month']=df[col].dt.month\n",
    "    df[f'{col}_day']=df[col].dt.day\n",
    "    df[f'{col}_dayofweek']=df[col].dt.dayofweek\n",
    "    df[f'{col}_weekofyear'] = df[col].dt.weekofyear\n",
    "    return df\n",
    "def get_data():\n",
    "    df= pd.read_csv(PATH/'employee_retention_data.csv',parse_dates=['join_date', 'quit_date'])\n",
    "    for col in ['join_date','quit_date']:\n",
    "        df = date_breakdown(df,col)\n",
    "    df['quit'] = ~df.quit_date.isnull()\n",
    "    df['employed_delta'] = (df.quit_date - df.join_date) / np.timedelta64(1, 'M')\n",
    "    df.drop(df[df.seniority>=90].index,inplace=True)\n",
    "    df = df.sort_values('join_date').reset_index(drop=True)\n",
    "    return df\n",
    "def get_headcount():\n",
    "    df = get_data()\n",
    "    \n",
    "    dates=pd.date_range('2011-01-24','2015-12-23').values\n",
    "    companies=sorted(df.company_id.unique())\n",
    "    \n",
    "    df_headcount=pd.DataFrame(list(product(*[dates,companies])),columns=['date','company_id'])\n",
    "    df_headcount.date = pd.to_datetime(df_headcount.date)\n",
    "    df_join=df.groupby(['join_date','company_id']).size().reset_index(name='join_count')\n",
    "    df_quit = df.groupby(['quit_date','company_id']).size().reset_index(name='quit_count')\n",
    "    df_headcount = df_headcount.merge(df_join,how='left',\n",
    "                                      left_on=['date','company_id'],\n",
    "                                      right_on=['join_date','company_id'])\n",
    "    df_headcount = df_headcount.merge(df_quit,how='left',\n",
    "                                      left_on=['date','company_id'],\n",
    "                                      right_on=['quit_date','company_id'])\n",
    "    df_headcount.drop(['join_date','quit_date'],axis=1,inplace=True)\n",
    "    df_headcount.fillna(0,inplace=True)\n",
    "    \n",
    "    df_headcount['headcount'] = df_headcount.groupby('company_id').join_count.cumsum() \\\n",
    "                                    - df_headcount.groupby('company_id').quit_count.cumsum()\n",
    "    for col in df_headcount.columns.values[-3:]:\n",
    "        df_headcount[col] = df_headcount[col].astype(np.int32)\n",
    "    df_headcount = date_breakdown(df_headcount,'date')\n",
    "    return df_headcount"
   ]
  },
  {
   "cell_type": "code",
   "execution_count": 5,
   "metadata": {},
   "outputs": [],
   "source": [
    "df = get_data()"
   ]
  },
  {
   "cell_type": "code",
   "execution_count": 7,
   "metadata": {},
   "outputs": [
    {
     "data": {
      "text/html": [
       "<div>\n",
       "<style scoped>\n",
       "    .dataframe tbody tr th:only-of-type {\n",
       "        vertical-align: middle;\n",
       "    }\n",
       "\n",
       "    .dataframe tbody tr th {\n",
       "        vertical-align: top;\n",
       "    }\n",
       "\n",
       "    .dataframe thead th {\n",
       "        text-align: right;\n",
       "    }\n",
       "</style>\n",
       "<table border=\"1\" class=\"dataframe\">\n",
       "  <thead>\n",
       "    <tr style=\"text-align: right;\">\n",
       "      <th></th>\n",
       "      <th>employee_id</th>\n",
       "      <th>company_id</th>\n",
       "      <th>dept</th>\n",
       "      <th>seniority</th>\n",
       "      <th>salary</th>\n",
       "      <th>join_date</th>\n",
       "      <th>quit_date</th>\n",
       "      <th>join_date_year</th>\n",
       "      <th>join_date_month</th>\n",
       "      <th>join_date_day</th>\n",
       "      <th>join_date_dayofweek</th>\n",
       "      <th>join_date_weekofyear</th>\n",
       "      <th>quit_date_year</th>\n",
       "      <th>quit_date_month</th>\n",
       "      <th>quit_date_day</th>\n",
       "      <th>quit_date_dayofweek</th>\n",
       "      <th>quit_date_weekofyear</th>\n",
       "      <th>quit</th>\n",
       "      <th>employed_delta</th>\n",
       "    </tr>\n",
       "  </thead>\n",
       "  <tbody>\n",
       "    <tr>\n",
       "      <th>0</th>\n",
       "      <td>679816.0</td>\n",
       "      <td>3</td>\n",
       "      <td>engineer</td>\n",
       "      <td>18</td>\n",
       "      <td>243000.0</td>\n",
       "      <td>2011-01-24</td>\n",
       "      <td>2015-08-07</td>\n",
       "      <td>2011</td>\n",
       "      <td>1</td>\n",
       "      <td>24</td>\n",
       "      <td>0</td>\n",
       "      <td>4</td>\n",
       "      <td>2015.0</td>\n",
       "      <td>8.0</td>\n",
       "      <td>7.0</td>\n",
       "      <td>4.0</td>\n",
       "      <td>32.0</td>\n",
       "      <td>True</td>\n",
       "      <td>54.407688</td>\n",
       "    </tr>\n",
       "    <tr>\n",
       "      <th>1</th>\n",
       "      <td>280323.0</td>\n",
       "      <td>1</td>\n",
       "      <td>data_science</td>\n",
       "      <td>1</td>\n",
       "      <td>74000.0</td>\n",
       "      <td>2011-01-24</td>\n",
       "      <td>2012-08-31</td>\n",
       "      <td>2011</td>\n",
       "      <td>1</td>\n",
       "      <td>24</td>\n",
       "      <td>0</td>\n",
       "      <td>4</td>\n",
       "      <td>2012.0</td>\n",
       "      <td>8.0</td>\n",
       "      <td>31.0</td>\n",
       "      <td>4.0</td>\n",
       "      <td>35.0</td>\n",
       "      <td>True</td>\n",
       "      <td>19.220107</td>\n",
       "    </tr>\n",
       "    <tr>\n",
       "      <th>2</th>\n",
       "      <td>554358.0</td>\n",
       "      <td>1</td>\n",
       "      <td>customer_service</td>\n",
       "      <td>8</td>\n",
       "      <td>67000.0</td>\n",
       "      <td>2011-01-24</td>\n",
       "      <td>2013-03-01</td>\n",
       "      <td>2011</td>\n",
       "      <td>1</td>\n",
       "      <td>24</td>\n",
       "      <td>0</td>\n",
       "      <td>4</td>\n",
       "      <td>2013.0</td>\n",
       "      <td>3.0</td>\n",
       "      <td>1.0</td>\n",
       "      <td>4.0</td>\n",
       "      <td>9.0</td>\n",
       "      <td>True</td>\n",
       "      <td>25.199696</td>\n",
       "    </tr>\n",
       "    <tr>\n",
       "      <th>3</th>\n",
       "      <td>527591.0</td>\n",
       "      <td>2</td>\n",
       "      <td>engineer</td>\n",
       "      <td>11</td>\n",
       "      <td>178000.0</td>\n",
       "      <td>2011-01-24</td>\n",
       "      <td>2011-12-16</td>\n",
       "      <td>2011</td>\n",
       "      <td>1</td>\n",
       "      <td>24</td>\n",
       "      <td>0</td>\n",
       "      <td>4</td>\n",
       "      <td>2011.0</td>\n",
       "      <td>12.0</td>\n",
       "      <td>16.0</td>\n",
       "      <td>4.0</td>\n",
       "      <td>50.0</td>\n",
       "      <td>True</td>\n",
       "      <td>10.710692</td>\n",
       "    </tr>\n",
       "    <tr>\n",
       "      <th>4</th>\n",
       "      <td>897062.0</td>\n",
       "      <td>3</td>\n",
       "      <td>engineer</td>\n",
       "      <td>17</td>\n",
       "      <td>240000.0</td>\n",
       "      <td>2011-01-24</td>\n",
       "      <td>2012-02-10</td>\n",
       "      <td>2011</td>\n",
       "      <td>1</td>\n",
       "      <td>24</td>\n",
       "      <td>0</td>\n",
       "      <td>4</td>\n",
       "      <td>2012.0</td>\n",
       "      <td>2.0</td>\n",
       "      <td>10.0</td>\n",
       "      <td>4.0</td>\n",
       "      <td>6.0</td>\n",
       "      <td>True</td>\n",
       "      <td>12.550566</td>\n",
       "    </tr>\n",
       "  </tbody>\n",
       "</table>\n",
       "</div>"
      ],
      "text/plain": [
       "   employee_id  company_id              dept  seniority    salary  join_date  \\\n",
       "0     679816.0           3          engineer         18  243000.0 2011-01-24   \n",
       "1     280323.0           1      data_science          1   74000.0 2011-01-24   \n",
       "2     554358.0           1  customer_service          8   67000.0 2011-01-24   \n",
       "3     527591.0           2          engineer         11  178000.0 2011-01-24   \n",
       "4     897062.0           3          engineer         17  240000.0 2011-01-24   \n",
       "\n",
       "   quit_date  join_date_year  join_date_month  join_date_day  \\\n",
       "0 2015-08-07            2011                1             24   \n",
       "1 2012-08-31            2011                1             24   \n",
       "2 2013-03-01            2011                1             24   \n",
       "3 2011-12-16            2011                1             24   \n",
       "4 2012-02-10            2011                1             24   \n",
       "\n",
       "   join_date_dayofweek  join_date_weekofyear  quit_date_year  quit_date_month  \\\n",
       "0                    0                     4          2015.0              8.0   \n",
       "1                    0                     4          2012.0              8.0   \n",
       "2                    0                     4          2013.0              3.0   \n",
       "3                    0                     4          2011.0             12.0   \n",
       "4                    0                     4          2012.0              2.0   \n",
       "\n",
       "   quit_date_day  quit_date_dayofweek  quit_date_weekofyear  quit  \\\n",
       "0            7.0                  4.0                  32.0  True   \n",
       "1           31.0                  4.0                  35.0  True   \n",
       "2            1.0                  4.0                   9.0  True   \n",
       "3           16.0                  4.0                  50.0  True   \n",
       "4           10.0                  4.0                   6.0  True   \n",
       "\n",
       "   employed_delta  \n",
       "0       54.407688  \n",
       "1       19.220107  \n",
       "2       25.199696  \n",
       "3       10.710692  \n",
       "4       12.550566  "
      ]
     },
     "execution_count": 7,
     "metadata": {},
     "output_type": "execute_result"
    }
   ],
   "source": [
    "df.head()"
   ]
  },
  {
   "cell_type": "markdown",
   "metadata": {},
   "source": [
    "# TODO: relabel independent variable: don't quit / quit after aprox 1 year / quit after approx 2 years (quit after > 2 years???)\n",
    "\n",
    "# Train: 2011 and 2012, test on 2013\n",
    "\n",
    "# Pick a simple random forest (few trees) and intepret some of them for some specific record (Jeremy)"
   ]
  },
  {
   "cell_type": "code",
   "execution_count": 18,
   "metadata": {},
   "outputs": [
    {
     "data": {
      "text/plain": [
       "<matplotlib.axes._subplots.AxesSubplot at 0x7f58215ecbe0>"
      ]
     },
     "execution_count": 18,
     "metadata": {},
     "output_type": "execute_result"
    },
    {
     "data": {
      "image/png": "[encoded data removed]",
      "text/plain": [
       "<Figure size 432x288 with 1 Axes>"
      ]
     },
     "metadata": {
      "needs_background": "light"
     },
     "output_type": "display_data"
    }
   ],
   "source": [
    "sns.countplot(x='join_date_year',data=df,hue='quit')"
   ]
  },
  {
   "cell_type": "code",
   "execution_count": 27,
   "metadata": {},
   "outputs": [
    {
     "data": {
      "text/plain": [
       "0.09793522267206478"
      ]
     },
     "execution_count": 27,
     "metadata": {},
     "output_type": "execute_result"
    }
   ],
   "source": [
    "df[df.employed_delta>30].shape[0] / len(df)"
   ]
  },
  {
   "cell_type": "code",
   "execution_count": 29,
   "metadata": {},
   "outputs": [
    {
     "data": {
      "text/plain": [
       "count    123.000000\n",
       "mean      16.225772\n",
       "std        1.045045\n",
       "min       15.014682\n",
       "25%       15.310376\n",
       "50%       15.934619\n",
       "75%       17.380234\n",
       "max       17.971622\n",
       "Name: employed_delta, dtype: float64"
      ]
     },
     "execution_count": 29,
     "metadata": {},
     "output_type": "execute_result"
    }
   ],
   "source": [
    "delta = df.loc[df.quit,'employed_delta']\n",
    "delta[delta.between(15,18)].describe()\n"
   ]
  },
  {
   "cell_type": "code",
   "execution_count": 25,
   "metadata": {},
   "outputs": [
    {
     "data": {
      "text/plain": [
       "False    7913\n",
       "True     1868\n",
       "Name: quit, dtype: int64"
      ]
     },
     "execution_count": 25,
     "metadata": {},
     "output_type": "execute_result"
    }
   ],
   "source": [
    "df[df.join_date_year>2013].quit.value_counts()"
   ]
  },
  {
   "cell_type": "code",
   "execution_count": 19,
   "metadata": {},
   "outputs": [
    {
     "data": {
      "text/plain": [
       "<matplotlib.axes._subplots.AxesSubplot at 0x7f58215d9588>"
      ]
     },
     "execution_count": 19,
     "metadata": {},
     "output_type": "execute_result"
    },
    {
     "data": {
      "image/png": "[encoded data removed]",
      "text/plain": [
       "<Figure size 432x288 with 1 Axes>"
      ]
     },
     "metadata": {
      "needs_background": "light"
     },
     "output_type": "display_data"
    }
   ],
   "source": [
    "sns.countplot(x='join_date_month',data=df,hue='quit')"
   ]
  },
  {
   "cell_type": "code",
   "execution_count": 14,
   "metadata": {},
   "outputs": [
    {
     "data": {
      "text/plain": [
       "True     13508\n",
       "False    11192\n",
       "Name: quit, dtype: int64"
      ]
     },
     "execution_count": 14,
     "metadata": {},
     "output_type": "execute_result"
    }
   ],
   "source": [
    "df.quit.value_counts(0)"
   ]
  },
  {
   "cell_type": "code",
   "execution_count": 17,
   "metadata": {},
   "outputs": [
    {
     "data": {
      "text/plain": [
       "Timestamp('2014-11-12 00:00:00')"
      ]
     },
     "execution_count": 17,
     "metadata": {},
     "output_type": "execute_result"
    }
   ],
   "source": [
    "pd.to_datetime('2015-12-13') - pd.DateOffset(days=365 + 31)"
   ]
  }
 ],
 "metadata": {
  "kernelspec": {
   "display_name": "Python 3",
   "language": "python",
   "name": "python3"
  },
  "language_info": {
   "codemirror_mode": {
    "name": "ipython",
    "version": 3
   },
   "file_extension": ".py",
   "mimetype": "text/x-python",
   "name": "python",
   "nbconvert_exporter": "python",
   "pygments_lexer": "ipython3",
   "version": "3.6.6"
  },
  "varInspector": {
   "cols": {
    "lenName": 16,
    "lenType": 16,
    "lenVar": 40
   },
   "kernels_config": {
    "python": {
     "delete_cmd_postfix": "",
     "delete_cmd_prefix": "del ",
     "library": "var_list.py",
     "varRefreshCmd": "print(var_dic_list())"
    },
    "r": {
     "delete_cmd_postfix": ") ",
     "delete_cmd_prefix": "rm(",
     "library": "var_list.r",
     "varRefreshCmd": "cat(var_dic_list()) "
    }
   },
   "types_to_exclude": [
    "module",
    "function",
    "builtin_function_or_method",
    "instance",
    "_Feature"
   ],
   "window_display": false
  }
 },
 "nbformat": 4,
 "nbformat_minor": 2
}
