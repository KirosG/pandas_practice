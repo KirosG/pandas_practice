{
 "cells": [
  {
   "cell_type": "code",
   "execution_count": 1,
   "metadata": {},
   "outputs": [],
   "source": [
    "%matplotlib inline"
   ]
  },
  {
   "cell_type": "code",
   "execution_count": 2,
   "metadata": {},
   "outputs": [
    {
     "name": "stderr",
     "output_type": "stream",
     "text": [
      "C:\\Users\\qtran\\AppData\\Local\\Continuum\\Miniconda3\\envs\\fastai-cpu\\lib\\site-packages\\sklearn\\ensemble\\weight_boosting.py:29: DeprecationWarning: numpy.core.umath_tests is an internal NumPy module and should not be imported. It will be removed in a future NumPy release.\n",
      "  from numpy.core.umath_tests import inner1d\n"
     ]
    }
   ],
   "source": [
    "from IPython.core.interactiveshell import InteractiveShell\n",
    "InteractiveShell.ast_node_interactivity = \"all\"\n",
    "\n",
    "import pandas as pd\n",
    "import numpy as np\n",
    "from pathlib import Path\n",
    "import matplotlib.pyplot as plt\n",
    "\n",
    "import seaborn as sns\n",
    "sns.set_style(\"whitegrid\")\n",
    "PATH = Path('data')\n",
    "\n",
    "from itertools import product\n",
    "\n",
    "from sklearn.ensemble import RandomForestClassifier\n",
    "from sklearn.metrics import log_loss,accuracy_score\n",
    "from sklearn.model_selection import GridSearchCV"
   ]
  },
  {
   "cell_type": "code",
   "execution_count": 33,
   "metadata": {},
   "outputs": [],
   "source": [
    "def date_breakdown(df,col):\n",
    "    df[f'{col}_year']=df[col].dt.year\n",
    "    df[f'{col}_month']=df[col].dt.month\n",
    "    df[f'{col}_day']=df[col].dt.day\n",
    "    df[f'{col}_dayofweek']=df[col].dt.dayofweek\n",
    "    df[f'{col}_weekofyear'] = df[col].dt.weekofyear\n",
    "    return df\n",
    "def get_data():\n",
    "    df= pd.read_csv(PATH/'employee_retention_data.csv',parse_dates=['join_date', 'quit_date'])\n",
    "    for col in ['join_date','quit_date']:\n",
    "        df = date_breakdown(df,col)\n",
    "    df['quit'] = ~df.quit_date.isnull()\n",
    "    df['employed_delta'] = (df.quit_date - df.join_date) / np.timedelta64(1, 'M')\n",
    "    df.drop(df[df.seniority>=90].index,inplace=True)\n",
    "    df = df.sort_values('join_date').reset_index(drop=True)\n",
    "    return df\n",
    "def prepare_label(df):\n",
    "    delta=df.loc[df.quit,'employed_delta']\n",
    "    new_label=pd.Series(np.zeros(len(df)))\n",
    "    new_label[delta[delta <16].index]=1 # quit after aprox 1 year\n",
    "    new_label[delta[delta.between(16,29.999)].index]=2 # quit after 2 years\n",
    "    new_label[delta[delta >30].index]=3 # quit after >2 years\n",
    "    return new_label.astype(np.int8)\n",
    "def prepare_data_RF(employment_time,dummies=True,max_year=2015):\n",
    "    df = get_data()\n",
    "    df['class_label'] = prepare_label(df)\n",
    "    drop_col=['employee_id','join_date',\n",
    "              'quit_date','quit_date_year','quit_date_month','quit_date_day','quit_date_dayofweek','quit_date_weekofyear',\n",
    "              'quit','employed_delta']\n",
    "    df.drop(drop_col,axis=1,inplace=True)\n",
    "            \n",
    "    # filter class label based on employment_time\n",
    "    df.drop(df[df.join_date_year > max_year-employment_time].index,inplace=True)\n",
    "    if employment_time>1:\n",
    "        df.drop(df[df.class_label.between(1,employment_time-1)].index,inplace=True)\n",
    "    df.loc[df.class_label!=employment_time,'class_label'] = 0\n",
    "    \n",
    "    df = df.reset_index(drop=True)\n",
    "    y=df.class_label.astype(np.int8)\n",
    "    \n",
    "    # convert type\n",
    "    cat_cols=['company_id','dept','join_date_year','join_date_month','join_date_day',\n",
    "            'join_date_dayofweek','join_date_weekofyear']\n",
    "    for col in df.columns.values:\n",
    "        if col in cat_cols: df[col] = df[col].astype('category')\n",
    "        else: df[col] = df[col].astype(np.int32)\n",
    "    \n",
    "    # dummies\n",
    "    if dummies:\n",
    "        df = pd.get_dummies(df,columns=cat_cols[:2])\n",
    "    return df.drop('class_label',axis=1), y\n",
    "def get_headcount():\n",
    "    df = get_data()\n",
    "    \n",
    "    dates=pd.date_range('2011-01-24','2015-12-23').values\n",
    "    companies=sorted(df.company_id.unique())\n",
    "    \n",
    "    df_headcount=pd.DataFrame(list(product(*[dates,companies])),columns=['date','company_id'])\n",
    "    df_headcount.date = pd.to_datetime(df_headcount.date)\n",
    "    df_join=df.groupby(['join_date','company_id']).size().reset_index(name='join_count')\n",
    "    df_quit = df.groupby(['quit_date','company_id']).size().reset_index(name='quit_count')\n",
    "    df_headcount = df_headcount.merge(df_join,how='left',\n",
    "                                      left_on=['date','company_id'],\n",
    "                                      right_on=['join_date','company_id'])\n",
    "    df_headcount = df_headcount.merge(df_quit,how='left',\n",
    "                                      left_on=['date','company_id'],\n",
    "                                      right_on=['quit_date','company_id'])\n",
    "    df_headcount.drop(['join_date','quit_date'],axis=1,inplace=True)\n",
    "    df_headcount.fillna(0,inplace=True)\n",
    "    \n",
    "    df_headcount['headcount'] = df_headcount.groupby('company_id').join_count.cumsum() \\\n",
    "                                    - df_headcount.groupby('company_id').quit_count.cumsum()\n",
    "    for col in df_headcount.columns.values[-3:]:\n",
    "        df_headcount[col] = df_headcount[col].astype(np.int32)\n",
    "    df_headcount = date_breakdown(df_headcount,'date')\n",
    "    return df_headcount\n",
    "\n",
    "\n",
    "def train_rf(X_train,y_train,X_test,y_test,params):\n",
    "    rf = RandomForestClassifier(random_state=1402,n_jobs=-1,**params)\n",
    "    rf.fit(X_train,y_train)\n",
    "    y_pred,y_prob = rf.predict(X_train),rf.predict_proba(X_train)\n",
    "    print(f'Train acc: {accuracy_score(y_train,y_pred)}. Train lloss: {log_loss(y_train,y_prob)}')\n",
    "    y_pred,y_prob = rf.predict(X_test),rf.predict_proba(X_test)\n",
    "    print(f'Test acc: {accuracy_score(y_test,y_pred)}. Test lloss: {log_loss(y_test,y_prob)}')\n",
    "    return rf\n",
    "def train_rf_cv(X,y,params,cv):\n",
    "    for i,(trn_idx,val_idx) in enumerate(cv):\n",
    "        print(f'Split {i+1}')\n",
    "        rf=train_rf(X.loc[trn_idx],y[trn_idx],X.loc[val_idx],y[val_idx],params)\n",
    "    if len(cv)==1:\n",
    "        return rf\n",
    "def gridsearch_rf(X,y,params,cv):\n",
    "    rf = RandomForestClassifier(random_state=1402)\n",
    "    scoring={'acc':'accuracy','logloss':'neg_log_loss'}\n",
    "    clf = GridSearchCV(rf,params,scoring=scoring,cv=cv,refit='logloss',n_jobs=-1,return_train_score=False)\n",
    "    clf.fit(X,y)\n",
    "    print(f'Best params: {clf.best_params_}')\n",
    "    print(f'Best logloss: {-1*clf.best_score_}')\n",
    "    return clf\n",
    "def get_cv_idxs(X,start=2011,end=2014,last_only=True):\n",
    "    year = X.join_date_year.astype(np.int32)\n",
    "    result=[]\n",
    "    for i in range(start+1,end+1):\n",
    "        train_idx = year[year <i].index.values\n",
    "        val_idx = year[year == i].index.values\n",
    "        result.append((train_idx,val_idx))\n",
    "    if last_only:\n",
    "        return np.array([result[-1]])\n",
    "    return np.array(result)\n",
    "\n",
    "from sklearn.metrics import confusion_matrix\n",
    "def plot_confusion_matrix(y_test,y_pred):\n",
    "    cm = confusion_matrix(y_test,y_pred)\n",
    "    labels=['Stay','Quit']\n",
    "    sns.heatmap(cm,cmap='Blues',xticklabels=labels,yticklabels=labels,annot=True,fmt=\".0f\")\n",
    "    plt.ylabel('True classes')\n",
    "    plt.xlabel('Predict classes')\n",
    "\n",
    "def plot_feature_importances_rf(importances,col_names,figsize=(5,10)):\n",
    "    dic = {i:j for i,j in zip(col_names,importances)}\n",
    "    sorted_columns=[]\n",
    "    sorted_values=[]\n",
    "    for key in sorted(dic, key=dic.get,reverse=False):\n",
    "        sorted_columns.append(key)\n",
    "        sorted_values.append(dic[key])\n",
    "        \n",
    "    length = len(importances)    \n",
    "    plt.figure(figsize=figsize)\n",
    "    plt.title('Feature Importances')\n",
    "    plt.barh(range(length),sorted_values[:length],color='lightblue',align='center',height=0.8)\n",
    "    plt.yticks(range(length),sorted_columns[:length])\n",
    "    plt.ylim([-1,length])\n",
    "    plt.tight_layout()\n"
   ]
  },
  {
   "cell_type": "markdown",
   "metadata": {},
   "source": [
    "# TODO: relabel independent variable: don't quit / quit after aprox 1 year / quit after approx 2 years (quit after > 2 years???)\n",
    "\n",
    "# Train: 2011 and 2012, test on 2013\n",
    "\n",
    "# Pick a simple random forest (few trees) and intepret some of them for some specific record (Jeremy)"
   ]
  },
  {
   "cell_type": "code",
   "execution_count": 4,
   "metadata": {},
   "outputs": [],
   "source": [
    "temp = get_data()\n",
    "temp['class_label']= prepare_label(temp)"
   ]
  },
  {
   "cell_type": "code",
   "execution_count": 5,
   "metadata": {},
   "outputs": [
    {
     "data": {
      "text/plain": [
       "<matplotlib.axes._subplots.AxesSubplot at 0xab3f080>"
      ]
     },
     "execution_count": 5,
     "metadata": {},
     "output_type": "execute_result"
    },
    {
     "data": {
      "image/png": "[encoded data removed]",
      "text/plain": [
       "<Figure size 864x360 with 1 Axes>"
      ]
     },
     "metadata": {},
     "output_type": "display_data"
    }
   ],
   "source": [
    "fig,ax = plt.subplots(figsize=(12,5))\n",
    "sns.countplot(x='join_date_year',data=temp,hue='class_label')"
   ]
  },
  {
   "cell_type": "markdown",
   "metadata": {},
   "source": [
    "# Stay vs Quit after 1 year"
   ]
  },
  {
   "cell_type": "code",
   "execution_count": 4,
   "metadata": {},
   "outputs": [],
   "source": [
    "X,y = prepare_data_RF(1)"
   ]
  },
  {
   "cell_type": "code",
   "execution_count": 5,
   "metadata": {},
   "outputs": [
    {
     "data": {
      "text/html": [
       "<div>\n",
       "<style scoped>\n",
       "    .dataframe tbody tr th:only-of-type {\n",
       "        vertical-align: middle;\n",
       "    }\n",
       "\n",
       "    .dataframe tbody tr th {\n",
       "        vertical-align: top;\n",
       "    }\n",
       "\n",
       "    .dataframe thead th {\n",
       "        text-align: right;\n",
       "    }\n",
       "</style>\n",
       "<table border=\"1\" class=\"dataframe\">\n",
       "  <thead>\n",
       "    <tr style=\"text-align: right;\">\n",
       "      <th></th>\n",
       "      <th>seniority</th>\n",
       "      <th>salary</th>\n",
       "      <th>join_date_year</th>\n",
       "      <th>join_date_month</th>\n",
       "      <th>join_date_day</th>\n",
       "      <th>join_date_dayofweek</th>\n",
       "      <th>join_date_weekofyear</th>\n",
       "      <th>company_id_1</th>\n",
       "      <th>company_id_2</th>\n",
       "      <th>company_id_3</th>\n",
       "      <th>...</th>\n",
       "      <th>company_id_9</th>\n",
       "      <th>company_id_10</th>\n",
       "      <th>company_id_11</th>\n",
       "      <th>company_id_12</th>\n",
       "      <th>dept_customer_service</th>\n",
       "      <th>dept_data_science</th>\n",
       "      <th>dept_design</th>\n",
       "      <th>dept_engineer</th>\n",
       "      <th>dept_marketing</th>\n",
       "      <th>dept_sales</th>\n",
       "    </tr>\n",
       "  </thead>\n",
       "  <tbody>\n",
       "    <tr>\n",
       "      <th>0</th>\n",
       "      <td>18</td>\n",
       "      <td>243000</td>\n",
       "      <td>2011</td>\n",
       "      <td>1</td>\n",
       "      <td>24</td>\n",
       "      <td>0</td>\n",
       "      <td>4</td>\n",
       "      <td>0</td>\n",
       "      <td>0</td>\n",
       "      <td>1</td>\n",
       "      <td>...</td>\n",
       "      <td>0</td>\n",
       "      <td>0</td>\n",
       "      <td>0</td>\n",
       "      <td>0</td>\n",
       "      <td>0</td>\n",
       "      <td>0</td>\n",
       "      <td>0</td>\n",
       "      <td>1</td>\n",
       "      <td>0</td>\n",
       "      <td>0</td>\n",
       "    </tr>\n",
       "    <tr>\n",
       "      <th>1</th>\n",
       "      <td>1</td>\n",
       "      <td>74000</td>\n",
       "      <td>2011</td>\n",
       "      <td>1</td>\n",
       "      <td>24</td>\n",
       "      <td>0</td>\n",
       "      <td>4</td>\n",
       "      <td>1</td>\n",
       "      <td>0</td>\n",
       "      <td>0</td>\n",
       "      <td>...</td>\n",
       "      <td>0</td>\n",
       "      <td>0</td>\n",
       "      <td>0</td>\n",
       "      <td>0</td>\n",
       "      <td>0</td>\n",
       "      <td>1</td>\n",
       "      <td>0</td>\n",
       "      <td>0</td>\n",
       "      <td>0</td>\n",
       "      <td>0</td>\n",
       "    </tr>\n",
       "    <tr>\n",
       "      <th>2</th>\n",
       "      <td>8</td>\n",
       "      <td>67000</td>\n",
       "      <td>2011</td>\n",
       "      <td>1</td>\n",
       "      <td>24</td>\n",
       "      <td>0</td>\n",
       "      <td>4</td>\n",
       "      <td>1</td>\n",
       "      <td>0</td>\n",
       "      <td>0</td>\n",
       "      <td>...</td>\n",
       "      <td>0</td>\n",
       "      <td>0</td>\n",
       "      <td>0</td>\n",
       "      <td>0</td>\n",
       "      <td>1</td>\n",
       "      <td>0</td>\n",
       "      <td>0</td>\n",
       "      <td>0</td>\n",
       "      <td>0</td>\n",
       "      <td>0</td>\n",
       "    </tr>\n",
       "    <tr>\n",
       "      <th>3</th>\n",
       "      <td>11</td>\n",
       "      <td>178000</td>\n",
       "      <td>2011</td>\n",
       "      <td>1</td>\n",
       "      <td>24</td>\n",
       "      <td>0</td>\n",
       "      <td>4</td>\n",
       "      <td>0</td>\n",
       "      <td>1</td>\n",
       "      <td>0</td>\n",
       "      <td>...</td>\n",
       "      <td>0</td>\n",
       "      <td>0</td>\n",
       "      <td>0</td>\n",
       "      <td>0</td>\n",
       "      <td>0</td>\n",
       "      <td>0</td>\n",
       "      <td>0</td>\n",
       "      <td>1</td>\n",
       "      <td>0</td>\n",
       "      <td>0</td>\n",
       "    </tr>\n",
       "    <tr>\n",
       "      <th>4</th>\n",
       "      <td>17</td>\n",
       "      <td>240000</td>\n",
       "      <td>2011</td>\n",
       "      <td>1</td>\n",
       "      <td>24</td>\n",
       "      <td>0</td>\n",
       "      <td>4</td>\n",
       "      <td>0</td>\n",
       "      <td>0</td>\n",
       "      <td>1</td>\n",
       "      <td>...</td>\n",
       "      <td>0</td>\n",
       "      <td>0</td>\n",
       "      <td>0</td>\n",
       "      <td>0</td>\n",
       "      <td>0</td>\n",
       "      <td>0</td>\n",
       "      <td>0</td>\n",
       "      <td>1</td>\n",
       "      <td>0</td>\n",
       "      <td>0</td>\n",
       "    </tr>\n",
       "  </tbody>\n",
       "</table>\n",
       "<p>5 rows × 25 columns</p>\n",
       "</div>"
      ],
      "text/plain": [
       "   seniority  salary join_date_year join_date_month join_date_day  \\\n",
       "0         18  243000           2011               1            24   \n",
       "1          1   74000           2011               1            24   \n",
       "2          8   67000           2011               1            24   \n",
       "3         11  178000           2011               1            24   \n",
       "4         17  240000           2011               1            24   \n",
       "\n",
       "  join_date_dayofweek join_date_weekofyear  company_id_1  company_id_2  \\\n",
       "0                   0                    4             0             0   \n",
       "1                   0                    4             1             0   \n",
       "2                   0                    4             1             0   \n",
       "3                   0                    4             0             1   \n",
       "4                   0                    4             0             0   \n",
       "\n",
       "   company_id_3     ...      company_id_9  company_id_10  company_id_11  \\\n",
       "0             1     ...                 0              0              0   \n",
       "1             0     ...                 0              0              0   \n",
       "2             0     ...                 0              0              0   \n",
       "3             0     ...                 0              0              0   \n",
       "4             1     ...                 0              0              0   \n",
       "\n",
       "   company_id_12  dept_customer_service  dept_data_science  dept_design  \\\n",
       "0              0                      0                  0            0   \n",
       "1              0                      0                  1            0   \n",
       "2              0                      1                  0            0   \n",
       "3              0                      0                  0            0   \n",
       "4              0                      0                  0            0   \n",
       "\n",
       "   dept_engineer  dept_marketing  dept_sales  \n",
       "0              1               0           0  \n",
       "1              0               0           0  \n",
       "2              0               0           0  \n",
       "3              1               0           0  \n",
       "4              1               0           0  \n",
       "\n",
       "[5 rows x 25 columns]"
      ]
     },
     "execution_count": 5,
     "metadata": {},
     "output_type": "execute_result"
    }
   ],
   "source": [
    "X.head()"
   ]
  },
  {
   "cell_type": "code",
   "execution_count": 5,
   "metadata": {},
   "outputs": [
    {
     "data": {
      "text/plain": [
       "0.6342123734082021"
      ]
     },
     "execution_count": 5,
     "metadata": {},
     "output_type": "execute_result"
    }
   ],
   "source": [
    "# base model accuracy score\n",
    "y_acc=y.value_counts()/ len(y)\n",
    "y_acc[0]"
   ]
  },
  {
   "cell_type": "code",
   "execution_count": 6,
   "metadata": {},
   "outputs": [
    {
     "data": {
      "text/plain": [
       "0.6566756633829712"
      ]
     },
     "execution_count": 6,
     "metadata": {},
     "output_type": "execute_result"
    }
   ],
   "source": [
    "# base model log loss score\n",
    "log_loss(y,np.array([y_acc[1]]*len(y)))"
   ]
  },
  {
   "cell_type": "markdown",
   "metadata": {},
   "source": [
    "We want to determine which factors affect employee churn instead of building a predictive model. We will use cross validation and gridsearch for Random Forest parameter tuning: do a increment timeseries cross validation (train on 2011-validate on 2012, train on 2011 and 2012-validate on 2013 ...)"
   ]
  },
  {
   "cell_type": "code",
   "execution_count": 7,
   "metadata": {},
   "outputs": [],
   "source": [
    "from sklearn.ensemble import forest\n",
    "def set_rf_samples(n):\n",
    "    \"\"\" Changes Scikit learn's random forests to give each tree a random sample of\n",
    "    n random rows.\n",
    "    \"\"\"\n",
    "    forest._generate_sample_indices = (lambda rs, n_samples:\n",
    "        forest.check_random_state(rs).randint(0, n_samples, n))\n",
    "\n",
    "def reset_rf_samples():\n",
    "    \"\"\" Undoes the changes produced by set_rf_samples.\n",
    "    \"\"\"\n",
    "    forest._generate_sample_indices = (lambda rs, n_samples:\n",
    "        forest.check_random_state(rs).randint(0, n_samples, n_samples))\n"
   ]
  },
  {
   "cell_type": "code",
   "execution_count": 42,
   "metadata": {},
   "outputs": [
    {
     "data": {
      "text/plain": [
       "14919"
      ]
     },
     "execution_count": 42,
     "metadata": {},
     "output_type": "execute_result"
    }
   ],
   "source": [
    "cv = get_cv_idxs(X)\n",
    "n_train=len(cv[-1][0])\n",
    "n_train\n",
    "n=int(1*n_train)\n",
    "# set_rf_samples(n)\n",
    "# reset_rf_samples()"
   ]
  },
  {
   "cell_type": "code",
   "execution_count": 36,
   "metadata": {},
   "outputs": [],
   "source": [
    "cv = get_cv_idxs(X)\n",
    "params={\n",
    "    'n_estimators':[13,14,15,16,17],\n",
    "    'max_features':[0.1,0.15,0.2,0.3],\n",
    "    'min_samples_leaf':[16,17,18,19,20],\n",
    "    'class_weight':['balanced',{0:1,1:1},{0:1,1:2},{0:2,1:1}]\n",
    "}"
   ]
  },
  {
   "cell_type": "code",
   "execution_count": 37,
   "metadata": {},
   "outputs": [
    {
     "name": "stdout",
     "output_type": "stream",
     "text": [
      "Best params: {'class_weight': {0: 1, 1: 1}, 'max_features': 0.1, 'min_samples_leaf': 18, 'n_estimators': 16}\n",
      "Best logloss: 0.641143712469575\n",
      "Split 1\n",
      "Train acc: 0.63496212882901. Train lloss: 0.6265032062142696\n",
      "Test acc: 0.6494927392082753. Test lloss: 0.641143712469575\n"
     ]
    },
    {
     "data": {
      "text/plain": [
       "RandomForestClassifier(bootstrap=True, class_weight={0: 1, 1: 1},\n",
       "            criterion='gini', max_depth=None, max_features=0.1,\n",
       "            max_leaf_nodes=None, min_impurity_decrease=0.0,\n",
       "            min_impurity_split=None, min_samples_leaf=18,\n",
       "            min_samples_split=2, min_weight_fraction_leaf=0.0,\n",
       "            n_estimators=16, n_jobs=-1, oob_score=False, random_state=1402,\n",
       "            verbose=0, warm_start=False)"
      ]
     },
     "execution_count": 37,
     "metadata": {},
     "output_type": "execute_result"
    }
   ],
   "source": [
    "clf = gridsearch_rf(X,y,params,cv)\n",
    "train_rf_cv(X,y,clf.best_params_,cv)"
   ]
  },
  {
   "cell_type": "code",
   "execution_count": 14,
   "metadata": {},
   "outputs": [
    {
     "name": "stdout",
     "output_type": "stream",
     "text": [
      "Best params: {'max_features': 0.1, 'min_samples_leaf': 18, 'n_estimators': 15}\n",
      "Best logloss: 0.6416161778101781\n",
      "Split 1\n",
      "Train acc: 0.6352972719351163. Train lloss: 0.6263046539199311\n",
      "Test acc: 0.6502884424109807. Test lloss: 0.6416161778101781\n"
     ]
    }
   ],
   "source": [
    "clf = gridsearch_rf(X,y,params,cv)\n",
    "train_rf_cv(X,y,clf.best_params_,cv)"
   ]
  },
  {
   "cell_type": "code",
   "execution_count": 45,
   "metadata": {},
   "outputs": [
    {
     "name": "stdout",
     "output_type": "stream",
     "text": [
      "Split 1\n",
      "Train acc: 0.63496212882901. Train lloss: 0.6265032062142696\n",
      "Test acc: 0.6494927392082753. Test lloss: 0.641143712469575\n"
     ]
    }
   ],
   "source": [
    "rf = train_rf_cv(X,y,clf.best_params_,cv)"
   ]
  },
  {
   "cell_type": "markdown",
   "metadata": {},
   "source": [
    "Even after finetuning (including tree random sample), this model does not perform well. It is just a bit better than simple base model (random predictions based on probability of label). Our goal is to not build a good predictive model but to determine factors that affect employee churn rate, so we will take a look at Random Forest feature importances to determine this"
   ]
  },
  {
   "cell_type": "markdown",
   "metadata": {},
   "source": [
    "## Random prediction"
   ]
  },
  {
   "cell_type": "code",
   "execution_count": 22,
   "metadata": {},
   "outputs": [
    {
     "data": {
      "text/plain": [
       "0.6514819972150387"
      ]
     },
     "execution_count": 22,
     "metadata": {},
     "output_type": "execute_result"
    },
    {
     "data": {
      "text/plain": [
       "0.6465243944288572"
      ]
     },
     "execution_count": 22,
     "metadata": {},
     "output_type": "execute_result"
    }
   ],
   "source": [
    "trn_idx,val_idx = cv[-1]\n",
    "X_train,y_train,X_test,y_test=X.loc[trn_idx],y[trn_idx],X.loc[val_idx],y[val_idx]\n",
    "\n",
    "# base model (predict all stay) accuracy score\n",
    "y_acc=y_test.value_counts()/ len(y_test)\n",
    "y_acc[0]\n",
    "\n",
    "# base model log loss score\n",
    "log_loss(y_test,np.array([y_acc[1]]*len(y_test)))"
   ]
  },
  {
   "cell_type": "markdown",
   "metadata": {},
   "source": [
    "# Evaluate RF predictive model from finetuning"
   ]
  },
  {
   "cell_type": "code",
   "execution_count": 38,
   "metadata": {},
   "outputs": [
    {
     "data": {
      "text/plain": [
       "RandomForestClassifier(bootstrap=True, class_weight={0: 1, 1: 1},\n",
       "            criterion='gini', max_depth=None, max_features=0.1,\n",
       "            max_leaf_nodes=None, min_impurity_decrease=0.0,\n",
       "            min_impurity_split=None, min_samples_leaf=18,\n",
       "            min_samples_split=2, min_weight_fraction_leaf=0.0,\n",
       "            n_estimators=16, n_jobs=-1, oob_score=False, random_state=1402,\n",
       "            verbose=0, warm_start=False)"
      ]
     },
     "execution_count": 38,
     "metadata": {},
     "output_type": "execute_result"
    }
   ],
   "source": [
    "rf = RandomForestClassifier(random_state=1402,n_jobs=-1,**clf.best_params_)\n",
    "rf.fit(X_train,y_train)\n",
    "y_pred,y_prob = rf.predict(X_train),rf.predict_proba(X_train)"
   ]
  },
  {
   "cell_type": "code",
   "execution_count": 40,
   "metadata": {},
   "outputs": [
    {
     "data": {
      "image/png": "[encoded data removed]",
      "text/plain": [
       "<Figure size 432x288 with 2 Axes>"
      ]
     },
     "metadata": {},
     "output_type": "display_data"
    }
   ],
   "source": [
    "# confusion matrix\n",
    "plot_confusion_matrix(y_train,y_pred)"
   ]
  },
  {
   "cell_type": "code",
   "execution_count": 18,
   "metadata": {},
   "outputs": [],
   "source": [
    "y_pred,y_prob = rf.predict(X_test),rf.predict_proba(X_test)"
   ]
  },
  {
   "cell_type": "code",
   "execution_count": 19,
   "metadata": {},
   "outputs": [
    {
     "data": {
      "image/png": "[encoded data removed]",
      "text/plain": [
       "<Figure size 432x288 with 2 Axes>"
      ]
     },
     "metadata": {},
     "output_type": "display_data"
    }
   ],
   "source": [
    "plot_confusion_matrix(y_test,y_pred)"
   ]
  },
  {
   "cell_type": "code",
   "execution_count": 39,
   "metadata": {},
   "outputs": [
    {
     "data": {
      "image/png": "[encoded data removed]",
      "text/plain": [
       "<Figure size 504x504 with 1 Axes>"
      ]
     },
     "metadata": {},
     "output_type": "display_data"
    }
   ],
   "source": [
    "plot_feature_importances_rf(rf.feature_importances_,X.columns.values,figsize=(7,7))"
   ]
  },
  {
   "cell_type": "markdown",
   "metadata": {},
   "source": [
    "# overfit model on entire dataset to get feature importance"
   ]
  },
  {
   "cell_type": "code",
   "execution_count": 41,
   "metadata": {},
   "outputs": [
    {
     "name": "stdout",
     "output_type": "stream",
     "text": [
      "Train acc: 0.9717236538654367. Train lloss: 0.1997396135878689\n",
      "Test acc: 0.9717236538654367. Test lloss: 0.1997396135878689\n"
     ]
    }
   ],
   "source": [
    "rf = train_rf(X,y,X,y,{})"
   ]
  },
  {
   "cell_type": "code",
   "execution_count": 42,
   "metadata": {},
   "outputs": [
    {
     "data": {
      "image/png": "[encoded data removed]",
      "text/plain": [
       "<Figure size 504x504 with 1 Axes>"
      ]
     },
     "metadata": {},
     "output_type": "display_data"
    }
   ],
   "source": [
    "plot_feature_importances_rf(rf.feature_importances_,X.columns.values,figsize=(7,7))"
   ]
  },
  {
   "cell_type": "markdown",
   "metadata": {},
   "source": [
    "Both models agree that salary and seniority are top 2 most important features. Few suggestions can be made:\n",
    "- We can break down salary into bins (i.e low, medium, high) to see its effect on employee churn better. Same can be done for seniority\n",
    "- How salary adjustment can change employee decision to stay or quit? (salary raise, better offer from other company ...)\n",
    "- To build a better predictive model, we can include few more features that are related to time, such as: number of new employees per company/seniority/department from previous day/month/year (lag features) or even turnout rates from previous day/month/year. We can also experiment with other model such as logistic regression, GBM (though GBM might overfit easier for such small dataset)"
   ]
  }
 ],
 "metadata": {
  "kernelspec": {
   "display_name": "Python 3",
   "language": "python",
   "name": "python3"
  },
  "language_info": {
   "codemirror_mode": {
    "name": "ipython",
    "version": 3
   },
   "file_extension": ".py",
   "mimetype": "text/x-python",
   "name": "python",
   "nbconvert_exporter": "python",
   "pygments_lexer": "ipython3",
   "version": "3.6.6"
  },
  "varInspector": {
   "cols": {
    "lenName": 16,
    "lenType": 16,
    "lenVar": 40
   },
   "kernels_config": {
    "python": {
     "delete_cmd_postfix": "",
     "delete_cmd_prefix": "del ",
     "library": "var_list.py",
     "varRefreshCmd": "print(var_dic_list())"
    },
    "r": {
     "delete_cmd_postfix": ") ",
     "delete_cmd_prefix": "rm(",
     "library": "var_list.r",
     "varRefreshCmd": "cat(var_dic_list()) "
    }
   },
   "types_to_exclude": [
    "module",
    "function",
    "builtin_function_or_method",
    "instance",
    "_Feature"
   ],
   "window_display": false
  }
 },
 "nbformat": 4,
 "nbformat_minor": 2
}
