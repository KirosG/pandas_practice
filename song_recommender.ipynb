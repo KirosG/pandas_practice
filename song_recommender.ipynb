{
 "cells": [
  {
   "cell_type": "code",
   "execution_count": 1,
   "metadata": {},
   "outputs": [],
   "source": [
    "%matplotlib inline"
   ]
  },
  {
   "cell_type": "code",
   "execution_count": 2,
   "metadata": {},
   "outputs": [
    {
     "data": {
      "text/plain": [
       "[WindowsPath('data/cc_info.csv'),\n",
       " WindowsPath('data/conversion_data.csv'),\n",
       " WindowsPath('data/employee_retention_data.csv'),\n",
       " WindowsPath('data/Fraud_Data.csv'),\n",
       " WindowsPath('data/Fraud_Data_Country.csv'),\n",
       " WindowsPath('data/IpAddress_to_Country.csv'),\n",
       " WindowsPath('data/song.json'),\n",
       " WindowsPath('data/test_table.csv'),\n",
       " WindowsPath('data/user_table.csv')]"
      ]
     },
     "execution_count": 2,
     "metadata": {},
     "output_type": "execute_result"
    }
   ],
   "source": [
    "import pandas as pd\n",
    "import numpy as np\n",
    "from pathlib import Path\n",
    "import json\n",
    "import matplotlib.pyplot as plt\n",
    "\n",
    "PATH = Path('data')\n",
    "list(PATH.iterdir())"
   ]
  },
  {
   "cell_type": "code",
   "execution_count": 58,
   "metadata": {},
   "outputs": [],
   "source": [
    "def get_data():\n",
    "    df = pd.read_json(PATH/'song.json')\n",
    "    df['signup_day'] = pd.to_datetime(df.user_sign_up_date).dt.day\n",
    "    df['time_played'] = pd.to_datetime(df.time_played)\n",
    "    \n",
    "    df.drop(['id','user_sign_up_date'],axis=1,inplace=True)\n",
    "    df.song_played = df.song_played.astype('category')\n",
    "    df.user_state = df.user_state.astype('category')\n",
    "    \n",
    "    df.sort_values(['time_played','signup_day','user_id'],inplace=True)\n",
    "    df.reset_index(drop=True,inplace=True)\n",
    "    return df"
   ]
  },
  {
   "cell_type": "code",
   "execution_count": 59,
   "metadata": {},
   "outputs": [
    {
     "data": {
      "text/plain": [
       "(4000, 5)"
      ]
     },
     "execution_count": 59,
     "metadata": {},
     "output_type": "execute_result"
    }
   ],
   "source": [
    "df = get_data()\n",
    "df.shape"
   ]
  },
  {
   "cell_type": "code",
   "execution_count": 63,
   "metadata": {},
   "outputs": [
    {
     "data": {
      "text/plain": [
       "song_played          category\n",
       "time_played    datetime64[ns]\n",
       "user_id                 int64\n",
       "user_state           category\n",
       "signup_day              int64\n",
       "dtype: object"
      ]
     },
     "execution_count": 63,
     "metadata": {},
     "output_type": "execute_result"
    }
   ],
   "source": [
    "df.dtypes"
   ]
  },
  {
   "cell_type": "code",
   "execution_count": 60,
   "metadata": {},
   "outputs": [
    {
     "data": {
      "text/html": [
       "<div>\n",
       "<style scoped>\n",
       "    .dataframe tbody tr th:only-of-type {\n",
       "        vertical-align: middle;\n",
       "    }\n",
       "\n",
       "    .dataframe tbody tr th {\n",
       "        vertical-align: top;\n",
       "    }\n",
       "\n",
       "    .dataframe thead th {\n",
       "        text-align: right;\n",
       "    }\n",
       "</style>\n",
       "<table border=\"1\" class=\"dataframe\">\n",
       "  <thead>\n",
       "    <tr style=\"text-align: right;\">\n",
       "      <th></th>\n",
       "      <th>song_played</th>\n",
       "      <th>time_played</th>\n",
       "      <th>user_id</th>\n",
       "      <th>user_state</th>\n",
       "      <th>signup_day</th>\n",
       "    </tr>\n",
       "  </thead>\n",
       "  <tbody>\n",
       "    <tr>\n",
       "      <th>3990</th>\n",
       "      <td>Ticket to Ride</td>\n",
       "      <td>2015-06-28 22:21:53</td>\n",
       "      <td>189</td>\n",
       "      <td>Florida</td>\n",
       "      <td>20</td>\n",
       "    </tr>\n",
       "    <tr>\n",
       "      <th>3991</th>\n",
       "      <td>Let It Be</td>\n",
       "      <td>2015-06-28 22:22:25</td>\n",
       "      <td>14</td>\n",
       "      <td>Ohio</td>\n",
       "      <td>2</td>\n",
       "    </tr>\n",
       "    <tr>\n",
       "      <th>3992</th>\n",
       "      <td>While My Guitar Gently Weeps</td>\n",
       "      <td>2015-06-28 22:31:14</td>\n",
       "      <td>91</td>\n",
       "      <td>North Carolina</td>\n",
       "      <td>10</td>\n",
       "    </tr>\n",
       "    <tr>\n",
       "      <th>3993</th>\n",
       "      <td>Strawberry Fields Forever</td>\n",
       "      <td>2015-06-28 22:36:10</td>\n",
       "      <td>146</td>\n",
       "      <td>Indiana</td>\n",
       "      <td>18</td>\n",
       "    </tr>\n",
       "    <tr>\n",
       "      <th>3994</th>\n",
       "      <td>A Day In The Life</td>\n",
       "      <td>2015-06-28 22:54:54</td>\n",
       "      <td>150</td>\n",
       "      <td>Oregon</td>\n",
       "      <td>18</td>\n",
       "    </tr>\n",
       "    <tr>\n",
       "      <th>3995</th>\n",
       "      <td>Revolution</td>\n",
       "      <td>2015-06-28 22:58:23</td>\n",
       "      <td>195</td>\n",
       "      <td>Alaska</td>\n",
       "      <td>20</td>\n",
       "    </tr>\n",
       "    <tr>\n",
       "      <th>3996</th>\n",
       "      <td>Paperback Writer</td>\n",
       "      <td>2015-06-28 22:59:27</td>\n",
       "      <td>189</td>\n",
       "      <td>Florida</td>\n",
       "      <td>20</td>\n",
       "    </tr>\n",
       "    <tr>\n",
       "      <th>3997</th>\n",
       "      <td>We Can Work It Out</td>\n",
       "      <td>2015-06-28 23:12:51</td>\n",
       "      <td>137</td>\n",
       "      <td>Wisconsin</td>\n",
       "      <td>17</td>\n",
       "    </tr>\n",
       "    <tr>\n",
       "      <th>3998</th>\n",
       "      <td>Come Together</td>\n",
       "      <td>2015-06-28 23:26:38</td>\n",
       "      <td>158</td>\n",
       "      <td>North Carolina</td>\n",
       "      <td>19</td>\n",
       "    </tr>\n",
       "    <tr>\n",
       "      <th>3999</th>\n",
       "      <td>Lucy In The Sky With Diamonds</td>\n",
       "      <td>2015-06-28 23:46:06</td>\n",
       "      <td>96</td>\n",
       "      <td>South Carolina</td>\n",
       "      <td>12</td>\n",
       "    </tr>\n",
       "  </tbody>\n",
       "</table>\n",
       "</div>"
      ],
      "text/plain": [
       "                        song_played         time_played  user_id  \\\n",
       "3990                 Ticket to Ride 2015-06-28 22:21:53      189   \n",
       "3991                      Let It Be 2015-06-28 22:22:25       14   \n",
       "3992   While My Guitar Gently Weeps 2015-06-28 22:31:14       91   \n",
       "3993      Strawberry Fields Forever 2015-06-28 22:36:10      146   \n",
       "3994              A Day In The Life 2015-06-28 22:54:54      150   \n",
       "3995                     Revolution 2015-06-28 22:58:23      195   \n",
       "3996               Paperback Writer 2015-06-28 22:59:27      189   \n",
       "3997             We Can Work It Out 2015-06-28 23:12:51      137   \n",
       "3998                  Come Together 2015-06-28 23:26:38      158   \n",
       "3999  Lucy In The Sky With Diamonds 2015-06-28 23:46:06       96   \n",
       "\n",
       "          user_state  signup_day  \n",
       "3990         Florida          20  \n",
       "3991            Ohio           2  \n",
       "3992  North Carolina          10  \n",
       "3993         Indiana          18  \n",
       "3994          Oregon          18  \n",
       "3995          Alaska          20  \n",
       "3996         Florida          20  \n",
       "3997       Wisconsin          17  \n",
       "3998  North Carolina          19  \n",
       "3999  South Carolina          12  "
      ]
     },
     "execution_count": 60,
     "metadata": {},
     "output_type": "execute_result"
    }
   ],
   "source": [
    "df.tail(10)"
   ]
  },
  {
   "cell_type": "code",
   "execution_count": 88,
   "metadata": {},
   "outputs": [
    {
     "data": {
      "text/plain": [
       "196"
      ]
     },
     "execution_count": 88,
     "metadata": {},
     "output_type": "execute_result"
    }
   ],
   "source": [
    "df.user_id.nunique()"
   ]
  },
  {
   "cell_type": "code",
   "execution_count": 96,
   "metadata": {},
   "outputs": [
    {
     "data": {
      "text/plain": [
       "196"
      ]
     },
     "execution_count": 96,
     "metadata": {},
     "output_type": "execute_result"
    }
   ],
   "source": [
    "df[['user_id','signup_day']].drop_duplicates().shape[0]\n",
    "# user_id and signup_day is one to one"
   ]
  },
  {
   "cell_type": "code",
   "execution_count": 97,
   "metadata": {},
   "outputs": [
    {
     "data": {
      "text/plain": [
       "196"
      ]
     },
     "execution_count": 97,
     "metadata": {},
     "output_type": "execute_result"
    }
   ],
   "source": [
    "df[['user_id','user_state']].drop_duplicates().shape[0]\n",
    "# user_id and user_state is one to one"
   ]
  },
  {
   "cell_type": "markdown",
   "metadata": {},
   "source": [
    "What are the top 3 and the bottom 3 states in terms of number of users?"
   ]
  },
  {
   "cell_type": "code",
   "execution_count": 98,
   "metadata": {},
   "outputs": [
    {
     "data": {
      "text/plain": [
       "user_state\n",
       "New York      23\n",
       "California    21\n",
       "Texas         15\n",
       "Name: user_id, dtype: int64"
      ]
     },
     "execution_count": 98,
     "metadata": {},
     "output_type": "execute_result"
    }
   ],
   "source": [
    "df.groupby(['user_state']).user_id.nunique().nlargest(3)"
   ]
  },
  {
   "cell_type": "code",
   "execution_count": 104,
   "metadata": {},
   "outputs": [
    {
     "data": {
      "text/plain": [
       "user_state\n",
       "Arizona         1\n",
       "Connecticut     1\n",
       "Idaho           1\n",
       "Iowa            1\n",
       "Kansas          1\n",
       "Nebraska        1\n",
       "New Mexico      1\n",
       "North Dakota    1\n",
       "Rhode Island    1\n",
       "Name: user_id, dtype: int64"
      ]
     },
     "execution_count": 104,
     "metadata": {},
     "output_type": "execute_result"
    }
   ],
   "source": [
    "df.groupby(['user_state']).user_id.nunique().nsmallest(9)\n",
    "# there are these many states with only 1 user"
   ]
  },
  {
   "cell_type": "markdown",
   "metadata": {},
   "source": [
    "What are the top 3 and the bottom 3 states in terms of user engagement? You can choose how to mathematically define user engagement. What the CEO cares about here is in which states users are using the product a lot/very little.\n",
    "\n",
    "Define user engagement for each state as (# of time the site is used to play a song / # of user). If this == 1 -> each user only uses the site once -> low engagement"
   ]
  },
  {
   "cell_type": "code",
   "execution_count": 113,
   "metadata": {
    "scrolled": true
   },
   "outputs": [
    {
     "data": {
      "text/html": [
       "<div>\n",
       "<style scoped>\n",
       "    .dataframe tbody tr th:only-of-type {\n",
       "        vertical-align: middle;\n",
       "    }\n",
       "\n",
       "    .dataframe tbody tr th {\n",
       "        vertical-align: top;\n",
       "    }\n",
       "\n",
       "    .dataframe thead th {\n",
       "        text-align: right;\n",
       "    }\n",
       "</style>\n",
       "<table border=\"1\" class=\"dataframe\">\n",
       "  <thead>\n",
       "    <tr style=\"text-align: right;\">\n",
       "      <th></th>\n",
       "      <th>total_records</th>\n",
       "      <th>total_users</th>\n",
       "    </tr>\n",
       "    <tr>\n",
       "      <th>user_state</th>\n",
       "      <th></th>\n",
       "      <th></th>\n",
       "    </tr>\n",
       "  </thead>\n",
       "  <tbody>\n",
       "    <tr>\n",
       "      <th>Alabama</th>\n",
       "      <td>104</td>\n",
       "      <td>4</td>\n",
       "    </tr>\n",
       "    <tr>\n",
       "      <th>Alaska</th>\n",
       "      <td>58</td>\n",
       "      <td>2</td>\n",
       "    </tr>\n",
       "    <tr>\n",
       "      <th>Arizona</th>\n",
       "      <td>22</td>\n",
       "      <td>1</td>\n",
       "    </tr>\n",
       "    <tr>\n",
       "      <th>Arkansas</th>\n",
       "      <td>34</td>\n",
       "      <td>2</td>\n",
       "    </tr>\n",
       "    <tr>\n",
       "      <th>California</th>\n",
       "      <td>425</td>\n",
       "      <td>21</td>\n",
       "    </tr>\n",
       "  </tbody>\n",
       "</table>\n",
       "</div>"
      ],
      "text/plain": [
       "            total_records  total_users\n",
       "user_state                            \n",
       "Alabama               104            4\n",
       "Alaska                 58            2\n",
       "Arizona                22            1\n",
       "Arkansas               34            2\n",
       "California            425           21"
      ]
     },
     "execution_count": 113,
     "metadata": {},
     "output_type": "execute_result"
    }
   ],
   "source": [
    "df_state_eng = pd.concat([df.groupby('user_state').size(),df.groupby(['user_state']).user_id.nunique()],axis=1)\n",
    "df_state_eng.columns=['total_records','total_users']\n",
    "df_state_eng.head()"
   ]
  },
  {
   "cell_type": "code",
   "execution_count": 115,
   "metadata": {},
   "outputs": [
    {
     "data": {
      "text/html": [
       "<div>\n",
       "<style scoped>\n",
       "    .dataframe tbody tr th:only-of-type {\n",
       "        vertical-align: middle;\n",
       "    }\n",
       "\n",
       "    .dataframe tbody tr th {\n",
       "        vertical-align: top;\n",
       "    }\n",
       "\n",
       "    .dataframe thead th {\n",
       "        text-align: right;\n",
       "    }\n",
       "</style>\n",
       "<table border=\"1\" class=\"dataframe\">\n",
       "  <thead>\n",
       "    <tr style=\"text-align: right;\">\n",
       "      <th></th>\n",
       "      <th>total_records</th>\n",
       "      <th>total_users</th>\n",
       "      <th>engagement</th>\n",
       "    </tr>\n",
       "    <tr>\n",
       "      <th>user_state</th>\n",
       "      <th></th>\n",
       "      <th></th>\n",
       "      <th></th>\n",
       "    </tr>\n",
       "  </thead>\n",
       "  <tbody>\n",
       "    <tr>\n",
       "      <th>Nebraska</th>\n",
       "      <td>36</td>\n",
       "      <td>1</td>\n",
       "      <td>36.000000</td>\n",
       "    </tr>\n",
       "    <tr>\n",
       "      <th>Alaska</th>\n",
       "      <td>58</td>\n",
       "      <td>2</td>\n",
       "      <td>29.000000</td>\n",
       "    </tr>\n",
       "    <tr>\n",
       "      <th>Mississippi</th>\n",
       "      <td>85</td>\n",
       "      <td>3</td>\n",
       "      <td>28.333333</td>\n",
       "    </tr>\n",
       "    <tr>\n",
       "      <th>South Carolina</th>\n",
       "      <td>85</td>\n",
       "      <td>3</td>\n",
       "      <td>28.333333</td>\n",
       "    </tr>\n",
       "    <tr>\n",
       "      <th>Rhode Island</th>\n",
       "      <td>27</td>\n",
       "      <td>1</td>\n",
       "      <td>27.000000</td>\n",
       "    </tr>\n",
       "  </tbody>\n",
       "</table>\n",
       "</div>"
      ],
      "text/plain": [
       "                total_records  total_users  engagement\n",
       "user_state                                            \n",
       "Nebraska                   36            1   36.000000\n",
       "Alaska                     58            2   29.000000\n",
       "Mississippi                85            3   28.333333\n",
       "South Carolina             85            3   28.333333\n",
       "Rhode Island               27            1   27.000000"
      ]
     },
     "execution_count": 115,
     "metadata": {},
     "output_type": "execute_result"
    }
   ],
   "source": [
    "df_state_eng['engagement'] = df_state_eng.total_records / df_state_eng.total_users\n",
    "df_state_eng.sort_values('engagement',ascending=False,inplace=True)\n",
    "df_state_eng.head()"
   ]
  },
  {
   "cell_type": "code",
   "execution_count": 117,
   "metadata": {},
   "outputs": [
    {
     "data": {
      "text/html": [
       "<div>\n",
       "<style scoped>\n",
       "    .dataframe tbody tr th:only-of-type {\n",
       "        vertical-align: middle;\n",
       "    }\n",
       "\n",
       "    .dataframe tbody tr th {\n",
       "        vertical-align: top;\n",
       "    }\n",
       "\n",
       "    .dataframe thead th {\n",
       "        text-align: right;\n",
       "    }\n",
       "</style>\n",
       "<table border=\"1\" class=\"dataframe\">\n",
       "  <thead>\n",
       "    <tr style=\"text-align: right;\">\n",
       "      <th></th>\n",
       "      <th>total_records</th>\n",
       "      <th>total_users</th>\n",
       "      <th>engagement</th>\n",
       "    </tr>\n",
       "    <tr>\n",
       "      <th>user_state</th>\n",
       "      <th></th>\n",
       "      <th></th>\n",
       "      <th></th>\n",
       "    </tr>\n",
       "  </thead>\n",
       "  <tbody>\n",
       "    <tr>\n",
       "      <th>Nebraska</th>\n",
       "      <td>36</td>\n",
       "      <td>1</td>\n",
       "      <td>36.000000</td>\n",
       "    </tr>\n",
       "    <tr>\n",
       "      <th>Alaska</th>\n",
       "      <td>58</td>\n",
       "      <td>2</td>\n",
       "      <td>29.000000</td>\n",
       "    </tr>\n",
       "    <tr>\n",
       "      <th>Mississippi</th>\n",
       "      <td>85</td>\n",
       "      <td>3</td>\n",
       "      <td>28.333333</td>\n",
       "    </tr>\n",
       "  </tbody>\n",
       "</table>\n",
       "</div>"
      ],
      "text/plain": [
       "             total_records  total_users  engagement\n",
       "user_state                                         \n",
       "Nebraska                36            1   36.000000\n",
       "Alaska                  58            2   29.000000\n",
       "Mississippi             85            3   28.333333"
      ]
     },
     "execution_count": 117,
     "metadata": {},
     "output_type": "execute_result"
    }
   ],
   "source": [
    "df_state_eng.head(3)"
   ]
  },
  {
   "cell_type": "code",
   "execution_count": 118,
   "metadata": {},
   "outputs": [
    {
     "data": {
      "text/html": [
       "<div>\n",
       "<style scoped>\n",
       "    .dataframe tbody tr th:only-of-type {\n",
       "        vertical-align: middle;\n",
       "    }\n",
       "\n",
       "    .dataframe tbody tr th {\n",
       "        vertical-align: top;\n",
       "    }\n",
       "\n",
       "    .dataframe thead th {\n",
       "        text-align: right;\n",
       "    }\n",
       "</style>\n",
       "<table border=\"1\" class=\"dataframe\">\n",
       "  <thead>\n",
       "    <tr style=\"text-align: right;\">\n",
       "      <th></th>\n",
       "      <th>total_records</th>\n",
       "      <th>total_users</th>\n",
       "      <th>engagement</th>\n",
       "    </tr>\n",
       "    <tr>\n",
       "      <th>user_state</th>\n",
       "      <th></th>\n",
       "      <th></th>\n",
       "      <th></th>\n",
       "    </tr>\n",
       "  </thead>\n",
       "  <tbody>\n",
       "    <tr>\n",
       "      <th>Minnesota</th>\n",
       "      <td>42</td>\n",
       "      <td>4</td>\n",
       "      <td>10.5</td>\n",
       "    </tr>\n",
       "    <tr>\n",
       "      <th>Virginia</th>\n",
       "      <td>17</td>\n",
       "      <td>2</td>\n",
       "      <td>8.5</td>\n",
       "    </tr>\n",
       "    <tr>\n",
       "      <th>Kansas</th>\n",
       "      <td>8</td>\n",
       "      <td>1</td>\n",
       "      <td>8.0</td>\n",
       "    </tr>\n",
       "  </tbody>\n",
       "</table>\n",
       "</div>"
      ],
      "text/plain": [
       "            total_records  total_users  engagement\n",
       "user_state                                        \n",
       "Minnesota              42            4        10.5\n",
       "Virginia               17            2         8.5\n",
       "Kansas                  8            1         8.0"
      ]
     },
     "execution_count": 118,
     "metadata": {},
     "output_type": "execute_result"
    }
   ],
   "source": [
    "df_state_eng.tail(3)"
   ]
  },
  {
   "cell_type": "markdown",
   "metadata": {},
   "source": [
    "First user to sign up for each state"
   ]
  },
  {
   "cell_type": "code",
   "execution_count": 194,
   "metadata": {},
   "outputs": [],
   "source": [
    "def get_first_user(df):\n",
    "    idx = df['signup_day'].idxmin()\n",
    "    return df.loc[idx, 'user_id']"
   ]
  },
  {
   "cell_type": "code",
   "execution_count": 195,
   "metadata": {},
   "outputs": [
    {
     "data": {
      "text/plain": [
       "user_state\n",
       "Alabama             5\n",
       "Alaska            106\n",
       "Arizona           105\n",
       "Arkansas           78\n",
       "California         39\n",
       "Colorado          173\n",
       "Connecticut       127\n",
       "Florida            41\n",
       "Georgia            20\n",
       "Idaho             165\n",
       "Illinois           45\n",
       "Indiana           102\n",
       "Iowa              178\n",
       "Kansas            177\n",
       "Kentucky           34\n",
       "Louisiana          50\n",
       "Maryland           18\n",
       "Massachusetts      15\n",
       "Michigan           13\n",
       "Minnesota           8\n",
       "Mississippi        23\n",
       "Missouri           85\n",
       "Nebraska          134\n",
       "New Jersey          6\n",
       "New Mexico          4\n",
       "New York           12\n",
       "North Carolina      2\n",
       "North Dakota      135\n",
       "Ohio                3\n",
       "Oklahoma          119\n",
       "Oregon              1\n",
       "Pennsylvania       11\n",
       "Rhode Island      174\n",
       "South Carolina     64\n",
       "Tennessee          70\n",
       "Texas               7\n",
       "Utah               29\n",
       "Virginia          142\n",
       "Washington        125\n",
       "West Virginia      60\n",
       "Wisconsin          32\n",
       "dtype: int64"
      ]
     },
     "execution_count": 195,
     "metadata": {},
     "output_type": "execute_result"
    }
   ],
   "source": [
    "# temp=df.groupby(['user_state','user_id']).signup_day.min()\n",
    "df.groupby('user_state').apply(get_first_user)"
   ]
  }
 ],
 "metadata": {
  "kernelspec": {
   "display_name": "Python 3",
   "language": "python",
   "name": "python3"
  },
  "language_info": {
   "codemirror_mode": {
    "name": "ipython",
    "version": 3
   },
   "file_extension": ".py",
   "mimetype": "text/x-python",
   "name": "python",
   "nbconvert_exporter": "python",
   "pygments_lexer": "ipython3",
   "version": "3.6.6"
  }
 },
 "nbformat": 4,
 "nbformat_minor": 2
}
